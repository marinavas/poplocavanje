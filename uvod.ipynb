{
 "cells": [
  {
   "cell_type": "markdown",
   "metadata": {},
   "source": [
    "# Kristalografske grupe i popločavanje\n"
   ]
  },
  {
   "cell_type": "markdown",
   "metadata": {},
   "source": [
    "Popločavanje je prekrivanje ravni ili prostora geometrijskim figurama (poligonima odnosno telima) čije se unutrašnjosti ne preklapaju.\n",
    "Posebno su zanimljiva popločavanja kod kojih se koriste podudarne firgure tako da imamo grupu izometrija koje jednu figuru preslikavaju na sve ostale. Jedan od primera takvog popločavanja su kristalne rešetke, zbog čega se takve grupe nazivaju kristalografskim grupama.\n",
    "\n",
    "U ovom radu ćemo se baviti popločavanjima u euklidskoj ravni $\\mathbb{E}^2$.\n",
    "Prvo ćemo definisati pojam kristalografske grupe u $\\mathbb{E}^2$.\n",
    "\n",
    "__*Definicija:*__ Za grupu $G$ kažemo da je *konačno generisana* ako postoji konačan skup elemenata grupe koji generiše sve elemente grupe\n",
    "\n",
    "__*Definicija:*__ *Konačna fundamentalna oblast* $F$ grupe izometrija $G$ u $\\mathbb{E}^2$ je unija konačno mnogo poligona takva da važi:  \n",
    "1. $\\displaystyle{\\bigcup_{g\\in G}g(F)} = \\mathbb{E}^2$\n",
    "2. $(\\forall g\\in G)(\\mathring{F} \\cap g(\\mathring{F})= \\emptyset)$"
   ]
  },
  {
   "cell_type": "markdown",
   "metadata": {},
   "source": [
    "Fundamentalna oblasta po definiciji u opštem slučaju ne mora da bude poligon ali je za potrebe ovog rada dovoljno da se ograničimo na poligone. Takođe, opštija definicija bi zahtevala pojmove iz topologije, dok smo se ovako zadržali da geometrijskoj terminologiji. "
   ]
  },
  {
   "cell_type": "markdown",
   "metadata": {},
   "source": [
    "__*Definicija:*__ _Kristalografska grupa_ je konačno generisana grupa izometrija koja ima konačnu fundamentalnu oblast."
   ]
  },
  {
   "cell_type": "markdown",
   "metadata": {},
   "source": [
    "Poznato je da u $\\mathbb{E}^2$ postoji 17 različitih (do na izomorfizam) kristalografskih grupa. Ovde mislimo na algebarski izomorfizam grupa [1]."
   ]
  },
  {
   "cell_type": "markdown",
   "metadata": {},
   "source": [
    "U okviru ovog rada bavićemo se svojstvima kristalografskih grupa u $\\mathbb{E}^2$, svojstvima fundamentalnih oblasti i algoritmima za konstruisanje fundamentalnih poligona koji na kraju mogu imati praktičnu primenu u grafičkom dizajniranju popločavanja. Algoritme ćemo implementirati u programskom jeziku Python."
   ]
  },
  {
   "cell_type": "markdown",
   "metadata": {},
   "source": [
    "## Izometrijske transformacije u $\\mathbb{R}^2$"
   ]
  },
  {
   "cell_type": "markdown",
   "metadata": {},
   "source": [
    "Ako u $\\mathbb{E}^2$ uvedemo koordinatni sistem, tačke predstavljamo dvodimenzionim koordinatama tj. elementima $\\mathbb{R}^2$. Koordinate tacke $A$ označavaćemo sa $(A_x, A_y)$. Analitički ćemo izometrijsku transformaciju u $\\mathbb{R}^2$ predstaviti kao specijalan slučaj afine transformacije. Ako je $A^´ = g(A)$ tada imamo:\n",
    "$$A^´_x = pA_x + qA_y + c_x$$\n",
    "$$A^´_y = rA_x + sA_y + c_y$$\n",
    "Korišćenjem računa sa matricama to možemo predstaviti:\n",
    "\n",
    "$$\\begin{bmatrix}p & q\\\\ r & s\\end{bmatrix} \\begin{bmatrix}A_x\\\\ A_y \\end{bmatrix} + \\begin{bmatrix}c_x\\\\ c_y\\end{bmatrix} = \\begin{bmatrix}A^´_x\\\\ A^´_y \\end{bmatrix}$$\n",
    "\n",
    "Korišćenjem homogenih koordinata ovo možemo predstaviti kao množenje trodimenzionih matrica:\n",
    "\n",
    "$$\\begin{bmatrix}p & q & c_x\\\\ r & s&c_y \\\\ 0 & 0 & 1\\end{bmatrix} \\begin{bmatrix}A_x\\\\ A_y\\\\1\\end{bmatrix} = \n",
    "\\begin{bmatrix}A^´_x\\\\ A^´_y\\\\1\\end{bmatrix}$$\n",
    "\n",
    "Na primer, translacija za vektor $(t_x, t_y)$ bi se predstavila kao:\n",
    "\n",
    "$$\\begin{bmatrix}1 & 0 & t_x\\\\ 0 & 1&t_y \\\\ 0 & 0 & 1\\end{bmatrix} \\begin{bmatrix}A_x\\\\ A_y\\\\1\\end{bmatrix} = \n",
    "\\begin{bmatrix}A_x+t_x\\\\ A_y+t_y\\\\1\\end{bmatrix}$$\n",
    "\n",
    "Primer sa konkretnim brojevima u sintaksi programskog jezika Python:"
   ]
  },
  {
   "cell_type": "code",
   "execution_count": null,
   "metadata": {},
   "outputs": [],
   "source": []
  },
  {
   "cell_type": "code",
   "execution_count": 1,
   "metadata": {},
   "outputs": [
    {
     "data": {
      "text/plain": [
       "array([7, 9, 1])"
      ]
     },
     "execution_count": 1,
     "metadata": {},
     "output_type": "execute_result"
    }
   ],
   "source": [
    "import numpy as np\n",
    "tx,ty = 5,6\n",
    "t = np.array([\n",
    "    [ 1,  0,  tx],\n",
    "    [ 0,  1,  ty],\n",
    "    [ 0,  0,  1] ])\n",
    "A = np.array([2,3,1])\n",
    "t@A"
   ]
  },
  {
   "cell_type": "markdown",
   "metadata": {},
   "source": [
    "U primeru smo translirali tačku $A(2,3)$ za vektor $(5,6)$."
   ]
  },
  {
   "cell_type": "markdown",
   "metadata": {},
   "source": [
    "### Funkcije koje konstruišu matrice za osnovne izomejtrijske transformacije"
   ]
  },
  {
   "cell_type": "markdown",
   "metadata": {},
   "source": [
    "Funkcija `transl` konstruiše matricu za translaciju:"
   ]
  },
  {
   "cell_type": "code",
   "execution_count": 2,
   "metadata": {},
   "outputs": [],
   "source": [
    "def transl(tx,ty):\n",
    "    return np.array([\n",
    "        [ 1,  0,  tx],\n",
    "        [ 0,  1,  ty],\n",
    "        [ 0,  0,  1]])"
   ]
  },
  {
   "cell_type": "markdown",
   "metadata": {},
   "source": [
    "Funkcija `rot0` konstruiše matricu za rotaciju oko koordinatnog početka za zadati ugao:"
   ]
  },
  {
   "cell_type": "code",
   "execution_count": 36,
   "metadata": {},
   "outputs": [],
   "source": [
    "def rot0(fi):\n",
    "    return np.array([\n",
    "        [ cos(fi),  sin(fi),  0],\n",
    "        [-sin(fi),  cos(fi),  0],\n",
    "        [       0,        0,  1] ])"
   ]
  },
  {
   "cell_type": "markdown",
   "metadata": {},
   "source": [
    "Funkcija `reflX` konstruiše matricu za refleksiju oko x-ose:"
   ]
  },
  {
   "cell_type": "code",
   "execution_count": 4,
   "metadata": {},
   "outputs": [],
   "source": [
    "def reflX():\n",
    "    return np.array([\n",
    "        [ 1,  0,  0],\n",
    "        [ 0,  -1,  0],\n",
    "        [ 0,  0,  1] ])"
   ]
  },
  {
   "cell_type": "markdown",
   "metadata": {},
   "source": [
    "Prednost korišćenja homogenih koordinata je u tome što slaganje izometrija računamo kao množenje matrica. Na taj način funkciju `rot`, koja konstruiše matricu za rotaciju oko zadate tačke, možemo definisati kao:"
   ]
  },
  {
   "cell_type": "code",
   "execution_count": 42,
   "metadata": {},
   "outputs": [],
   "source": [
    "def rot(fi, cx, cy):\n",
    "    return transl(cx, cy) @  rot0(fi) @ transl(-cx, -cy)"
   ]
  },
  {
   "cell_type": "markdown",
   "metadata": {},
   "source": [
    "Slično konstruišemo refleksiju oko proizvoljne ose zadate koordinatama jedne tačke na toj osi i uglom koji ona pravi sa x-osom:"
   ]
  },
  {
   "cell_type": "code",
   "execution_count": 6,
   "metadata": {},
   "outputs": [],
   "source": [
    "def refl(ax,ay,fi):\n",
    "    return transl(ax,ay) @ rot0(fi) @ reflX() @ rot0(-fi) @ transl(-ax,-ay)"
   ]
  },
  {
   "cell_type": "markdown",
   "metadata": {},
   "source": [
    "Ukoliko osa prolazi kroz koordinatni početak i tačku a, matricu osne refleksije možemo i direktno konstruisati bez primene trigonometrijskih funkcija  na sledeći način:"
   ]
  },
  {
   "cell_type": "code",
   "execution_count": 126,
   "metadata": {},
   "outputs": [
    {
     "data": {
      "text/plain": [
       "array([[0., 1., 0.],\n",
       "       [1., 0., 0.],\n",
       "       [0., 0., 1.]])"
      ]
     },
     "execution_count": 126,
     "metadata": {},
     "output_type": "execute_result"
    }
   ],
   "source": [
    "def refl1(ax,ay):\n",
    "    r = (ax*ax+ay*ay)\n",
    "    #r=1  \n",
    "    return np.array([\n",
    "        [ (ax*ax-ay*ay)/r,  2*ax*ay/r,  0],\n",
    "        [ 2*ax*ay/r,  (ay*ay-ax*ax)/r,  0],\n",
    "        [         0,                0,  1] ])\n",
    "    \n",
    "refl1(4,4)"
   ]
  },
  {
   "cell_type": "markdown",
   "metadata": {},
   "source": [
    "Koristeći to možemo konstruisati refleksiju oko ose zadate dvema tačkama"
   ]
  },
  {
   "cell_type": "code",
   "execution_count": 125,
   "metadata": {},
   "outputs": [
    {
     "data": {
      "text/plain": [
       "array([[ 0.,  1., -1.],\n",
       "       [ 1.,  0.,  1.],\n",
       "       [ 0.,  0.,  1.]])"
      ]
     },
     "execution_count": 125,
     "metadata": {},
     "output_type": "execute_result"
    }
   ],
   "source": [
    "def refl2(ax,ay,bx,by):\n",
    "    return transl(ax,ay)@refl1(bx-ax,by-ay)@transl(-ax,-ay)\n",
    "\n",
    "refl2(0,1,4,5)"
   ]
  },
  {
   "cell_type": "markdown",
   "metadata": {},
   "source": [
    "** klizajuća"
   ]
  },
  {
   "cell_type": "markdown",
   "metadata": {},
   "source": [
    "### Predstavljanje grupa homogenim matricama i njihova implementacija"
   ]
  },
  {
   "cell_type": "markdown",
   "metadata": {},
   "source": [
    "Grupu **p1** čine dve translacije pa je generišu dva vektora $v$ i $u$\n",
    "\n",
    "$$\\begin{bmatrix}1 & 0 & v_x\\\\ 0 & 1&v_y \\\\ 0 & 0 & 1\\end{bmatrix}, \\begin{bmatrix}1 & 0 & u_x\\\\ 0 & 1&u_y \\\\ 0 & 0 & 1\\end{bmatrix}$$\n",
    "\n",
    "Grupu pored generičkih izometrija čine i njima inverzne izometrije kao i identitet pa je implementacija grupe **p1** sa parametrima: "
   ]
  },
  {
   "cell_type": "code",
   "execution_count": null,
   "metadata": {},
   "outputs": [],
   "source": [
    "def p1(x1,y1,x2,y2):\n",
    "    tr1 = transl(x1, y1)\n",
    "    tr2 = transl(x2, y2)\n",
    "    return [I,tr1,tr2,inv(tr1), inv(tr2)]"
   ]
  },
  {
   "cell_type": "markdown",
   "metadata": {},
   "source": [
    "Grupu **p2** čine tri centralne simetrije. Fundamentalni domen može biti trougaoni ili četvorougaoni. Radi lakšeg implementiranja, posmatraćemo kao jednu simetriju (kojom fundamentalni domen proširujemo do paralelograma) i dve translacije. Generiše se vektorima tih translacija (stranice dobijenog paralelograma) i jednim temenom. \n",
    "\n",
    "$$\\begin{Bmatrix}\\begin{bmatrix}-1 & 0 & 2a_x +v_x+u_x\\\\ 0 & -1& 2a_y +v_y+u_y \\\\ 0 & 0 & 1\\end{bmatrix}&,& \\begin{bmatrix}1 & 0 & v_x\\\\ 0 & 1&v_y \\\\ 0 & 0 & 1\\end{bmatrix}&,& \\begin{bmatrix}1 & 0 & u_x\\\\ 0 & 1&u_y \\\\ 0 & 0 & 1\\end{bmatrix}  \\end{Bmatrix}$$\n"
   ]
  },
  {
   "cell_type": "code",
   "execution_count": 41,
   "metadata": {},
   "outputs": [],
   "source": [
    "def p2(ax,ay, x1,y1,x2,y2):\n",
    "    sym = rot(pi,ax,ay)\n",
    "    return np.union1d(p1(x1,x2,y1,y2), [sym, inv(sym)])"
   ]
  },
  {
   "cell_type": "markdown",
   "metadata": {},
   "source": [
    "Grupu **pm** čine refleksije i translacije. Fundamentalni domen je pravougaonik* . Generišu ga jedno teme i dva vektora.\n",
    "\n",
    "$$\\begin{Bmatrix}\\begin{bmatrix} \\frac{v_{x}^{2}-v_{y}^{2} }{v_{x}^{2}+v_{y}^{2}}& \\frac{2v_{x}v_{y}}{v_{x}^{2}+v_{y}^{2}}& \\frac{2a_yv_{x}v_{y} + a_x(v_{x}^{2}-v_{y}^{2}-1)}{v_{x}^{2}+v_{y}^{2}}\\\\\\frac{2v_{x}v_{y}}{v_{x}^{2}+v_{y}^{2}}&\\frac{v_{y}^{2}-v_{x}^{2} }{v_{x}^{2}+v_{y}^{2}}& \\frac{2a_xv_{x}v_{y} + a_y(v_{x}^{2}-v_{y}^{2}-1)}{v_{x}^{2}+v_{y}^{2}} \\\\ 0 & 0 & 1\\end{bmatrix} & ,& \\begin{bmatrix}1 & 0 & u_x\\\\ 0 & 1&u_y \\\\ 0 & 0 & 1\\end{bmatrix}  \\end{Bmatrix}$$\n"
   ]
  },
  {
   "cell_type": "code",
   "execution_count": 127,
   "metadata": {},
   "outputs": [],
   "source": [
    "def pm(ax,ay, x1,y1,x2,y2):\n",
    "    ref = refl2(ax,ay, ax+x1,ay+y1)\n",
    "    return np.union1d(p1(x1,x2,y1,y2),[ref, inv(ref)])"
   ]
  },
  {
   "cell_type": "markdown",
   "metadata": {},
   "source": [
    "**"
   ]
  },
  {
   "cell_type": "markdown",
   "metadata": {},
   "source": [
    "## Konstruisanje grupa izometrijskih transformacija"
   ]
  },
  {
   "cell_type": "markdown",
   "metadata": {},
   "source": [
    "**  uz teorijski uvod implementirati funkcije za konstruisanje grupa iz transformacija sa primerima crtanja i funkcije za svih 17 grupa"
   ]
  },
  {
   "cell_type": "markdown",
   "metadata": {},
   "source": [
    "***"
   ]
  },
  {
   "cell_type": "markdown",
   "metadata": {},
   "source": [
    "## Dirihleova fundamentalna oblast"
   ]
  },
  {
   "cell_type": "markdown",
   "metadata": {},
   "source": [
    "** teorijsko objasnjenje"
   ]
  },
  {
   "cell_type": "markdown",
   "metadata": {},
   "source": [
    "### Konstrukcija Dirihleove fundamentalne oblasti "
   ]
  },
  {
   "cell_type": "markdown",
   "metadata": {},
   "source": [
    "** opis konsturkcije i impementacija u pajtonu"
   ]
  },
  {
   "cell_type": "markdown",
   "metadata": {},
   "source": [
    "## Podfundamentalna oblast"
   ]
  },
  {
   "cell_type": "markdown",
   "metadata": {},
   "source": [
    "## Modifikacija fundamentalne oblasti na osnovu podfundamentalne"
   ]
  },
  {
   "cell_type": "markdown",
   "metadata": {},
   "source": [
    "### Implementacija "
   ]
  },
  {
   "cell_type": "markdown",
   "metadata": {},
   "source": [
    "## Konačni primeri"
   ]
  },
  {
   "cell_type": "code",
   "execution_count": null,
   "metadata": {},
   "outputs": [],
   "source": []
  },
  {
   "cell_type": "code",
   "execution_count": 21,
   "metadata": {},
   "outputs": [
    {
     "data": {
      "text/plain": [
       "1.2246467991473532e-16"
      ]
     },
     "execution_count": 21,
     "metadata": {},
     "output_type": "execute_result"
    }
   ],
   "source": [
    "from matplotlib import pyplot as plt\n",
    "from shapely.geometry import Polygon\n",
    "from shapely.affinity import affine_transform\n",
    "from descartes.patch import PolygonPatch\n",
    "import numpy as np\n",
    "from math import sin, cos, pi\n",
    "\n",
    "# afine transformacije predstavljamo homogenim koordinatama\n",
    "\n",
    "\n",
    "\n",
    "def rot(fi, cx, cy):\n",
    "    return transl(cx, cy) @  rot0(fi) @ transl(-cx, -cy)\n",
    "\n",
    "def sim0(x,y):\n",
    "    return rot(pi,x,y)\n",
    "\n",
    "def glrefY(y,dy,dx):\n",
    "    return refldX(y,dy)@transl(dx,0)\n",
    "def gledfX(x,dx,dy):\n",
    "    return refldx(x,dx)@transl(0,dy)\n",
    "\n",
    "\n",
    "def affine_h(geom, m):\n",
    "    return affine_transform(geom, [m[0,0],m[0,1],m[1,0],m[1,1],m[0,2],m[1,2]])\n",
    "\n",
    "I = transl(0,0)\n",
    "def izom(vr,arg):\n",
    "    if(vr == \"p1\"):\n",
    "        tr1 = transl(arg[0], arg[1])\n",
    "        tr2 = transl(arg[2], arg[3])\n",
    "        return [I,tr1,tr2,inv(tr1), inv(tr2)]\n",
    "    if(vr == \"p31m\"):\n",
    "        r1 = rot(pi/3, arg[0], arg[1])\n",
    "        r2 = rot(2*pi/3, arg[2], arg[3])\n",
    "        return [I,r1,r2,inv(r1), inv(r2)]\n",
    "    \n",
    "    if(vr == \"p2\"):\n",
    "        s1 = sim0(arg[0], arg[1])\n",
    "        s2 = sim0(arg[2], arg[3])\n",
    "        s3 = sim0(arg[4], arg[5])\n",
    "        s4 = sim0(arg[6], arg[7])\n",
    "        return [I,s1,s2,s3,s4]\n",
    "    \n",
    "    if(vr == \"pgg\"):\n",
    "        s1 = sim0(arg[0], arg[1])\n",
    "        s2 = sim0(arg[2], arg[3])\n",
    "        return [I,s1,s2]\n",
    "    \n",
    "sin(pi)"
   ]
  },
  {
   "cell_type": "markdown",
   "metadata": {},
   "source": []
  },
  {
   "cell_type": "code",
   "execution_count": 8,
   "metadata": {},
   "outputs": [],
   "source": [
    "#pop_p31m = izom(\"p31m\", [0,0,0.5,sqrt(3)/6])\n",
    "#pop_p31m = izom(\"p1\", [0,1,1,0])\n",
    "pop_p31m = izom(\"pgg\", [0,0,0,0.5])"
   ]
  },
  {
   "cell_type": "markdown",
   "metadata": {},
   "source": [
    "\n",
    "ax = plt.axes()\n",
    "\n",
    "p1 = Polygon([(1,2), (1.5, 2.5), (2, 2), (2.5, 2.5), (3, 2), (2,1)])\n",
    "#patch = PolygonPatch(p1, facecolor='#ffff00', edgecolor='#ff0000', alpha=0.5, zorder=2)\n",
    "#ax.add_patch(patch)\n",
    "for i in range(12):\n",
    "    for j in range(12):\n",
    "        p2 = affine_h(p1, pop(i-6,j-6))\n",
    "        patch = PolygonPatch(p2, facecolor='#ff0000', edgecolor='#ff0000', alpha=0.7, zorder=2)\n",
    "        ax.add_patch(patch)\n",
    "p0 = Polygon([(0,0), (3,4), (3,8), (0,4)])\n",
    "\n",
    "patch = PolygonPatch(p0, facecolor='#0000ff', edgecolor='#6699cc', alpha=0.5, zorder=2)\n",
    "ax.add_patch(patch)\n",
    "for i in range(12):\n",
    "    for j in range(12):\n",
    "        p2 = affine_h(p0, pop(i-6,j-6))\n",
    "        patch = PolygonPatch(p2, facecolor='#0000ff', edgecolor='#000000', alpha=0.2, zorder=2)\n",
    "        ax.add_patch(patch)\n",
    "ax.set_xlim(-10,10)\n",
    "ax.set_xticks(range(-10,10))\n",
    "ax.set_ylim(-10,10)\n",
    "ax.set_yticks(range(-10,10))\n",
    "ax.set_aspect(1)\n",
    "plt.show()\n"
   ]
  },
  {
   "cell_type": "markdown",
   "metadata": {},
   "source": [
    "r1 = rot(pi/3, 0,0)\n",
    "r2 = rot(2*pi/3, 0.5,sqrt(3)/6)\n",
    "tr1 = Polygon([(0,0), (0.5,0),(0.5,sqrt(3)/6)])\n",
    "tr2 = Polygon([(1,0), (0.5,0),(0.5,sqrt(3)/6)])\n",
    "tr3 = Polygon([(1,0), (0,0),(0.5,sqrt(3)/6)])\n",
    "kv = Polygon([(0.25,0),(0.5,0),(0.5,0.25),(0.25,0.25)])\n",
    "r1i = inv(r1)\n",
    "r2i = inv(r2)\n",
    "I = r1@r1i\n",
    "bx = plt.axes()\n",
    "\n",
    "r = I\n",
    "def popl(i):\n",
    "    if i==5 :\n",
    "        p1 = affine_h(tr1, r)\n",
    "        patch = PolygonPatch(p1, facecolor='#ff0000', edgecolor='#ff0000', alpha=0.3, zorder=2)\n",
    "        bx.add_patch(patch)\n",
    "        p2 = affine_h(tr2, r)\n",
    "        patch = PolygonPatch(p2, facecolor='#0000ff', edgecolor='#0000ff', alpha=0.3, zorder=2)\n",
    "        bx.add_patch(patch)\n",
    "        return \n",
    "    for q1 in [I,r1,r2,r1i,r2i]:\n",
    "        r = r@q1  \n",
    "        popl(i+1)   \n",
    "    return\n",
    "popl(0)\n",
    "bx.set_xlim(-3,3)\n",
    "bx.set_xticks(range(-3,4))\n",
    "bx.set_ylim(-3,3)\n",
    "bx.set_yticks(range(-3,4))\n",
    "bx.set_aspect(1)\n",
    "plt.show()\n"
   ]
  },
  {
   "cell_type": "code",
   "execution_count": 9,
   "metadata": {},
   "outputs": [
    {
     "ename": "NameError",
     "evalue": "name 'tr3' is not defined",
     "output_type": "error",
     "traceback": [
      "\u001b[0;31m---------------------------------------------------------------------------\u001b[0m",
      "\u001b[0;31mNameError\u001b[0m                                 Traceback (most recent call last)",
      "\u001b[0;32m<ipython-input-9-36cb4801bc5e>\u001b[0m in \u001b[0;36m<module>\u001b[0;34m()\u001b[0m\n\u001b[1;32m      6\u001b[0m             \u001b[0;32mfor\u001b[0m \u001b[0mq4\u001b[0m \u001b[0;32min\u001b[0m \u001b[0mpop_p31m\u001b[0m\u001b[0;34m:\u001b[0m\u001b[0;34m\u001b[0m\u001b[0m\n\u001b[1;32m      7\u001b[0m                     \u001b[0mr\u001b[0m \u001b[0;34m=\u001b[0m \u001b[0mq1\u001b[0m\u001b[0;34m@\u001b[0m\u001b[0mq2\u001b[0m\u001b[0;34m@\u001b[0m\u001b[0mq3\u001b[0m\u001b[0;34m@\u001b[0m\u001b[0mq4\u001b[0m\u001b[0;34m\u001b[0m\u001b[0m\n\u001b[0;32m----> 8\u001b[0;31m                     \u001b[0mp1\u001b[0m \u001b[0;34m=\u001b[0m \u001b[0maffine_h\u001b[0m\u001b[0;34m(\u001b[0m\u001b[0mtr3\u001b[0m\u001b[0;34m,\u001b[0m \u001b[0mr\u001b[0m\u001b[0;34m)\u001b[0m\u001b[0;34m\u001b[0m\u001b[0m\n\u001b[0m\u001b[1;32m      9\u001b[0m                     \u001b[0mpatch\u001b[0m \u001b[0;34m=\u001b[0m \u001b[0mPolygonPatch\u001b[0m\u001b[0;34m(\u001b[0m\u001b[0mp1\u001b[0m\u001b[0;34m,\u001b[0m \u001b[0mfacecolor\u001b[0m\u001b[0;34m=\u001b[0m\u001b[0;34m'#ff0000'\u001b[0m\u001b[0;34m,\u001b[0m \u001b[0medgecolor\u001b[0m\u001b[0;34m=\u001b[0m\u001b[0;34m'#000000'\u001b[0m\u001b[0;34m,\u001b[0m \u001b[0malpha\u001b[0m\u001b[0;34m=\u001b[0m\u001b[0;36m0.3\u001b[0m\u001b[0;34m,\u001b[0m \u001b[0mzorder\u001b[0m\u001b[0;34m=\u001b[0m\u001b[0;36m2\u001b[0m\u001b[0;34m)\u001b[0m\u001b[0;34m\u001b[0m\u001b[0m\n\u001b[1;32m     10\u001b[0m                     \u001b[0mbx\u001b[0m\u001b[0;34m.\u001b[0m\u001b[0madd_patch\u001b[0m\u001b[0;34m(\u001b[0m\u001b[0mpatch\u001b[0m\u001b[0;34m)\u001b[0m\u001b[0;34m\u001b[0m\u001b[0m\n",
      "\u001b[0;31mNameError\u001b[0m: name 'tr3' is not defined"
     ]
    },
    {
     "data": {
      "image/png": "[encoded data removed]",
      "text/plain": [
       "<Figure size 432x288 with 1 Axes>"
      ]
     },
     "metadata": {},
     "output_type": "display_data"
    }
   ],
   "source": [
    "\n",
    "bx = plt.axes()\n",
    "for q1 in pop_p31m:\n",
    "    for q2 in pop_p31m:\n",
    "        for q3 in pop_p31m:\n",
    "            for q4 in pop_p31m:                \n",
    "                    r = q1@q2@q3@q4\n",
    "                    p1 = affine_h(tr3, r)\n",
    "                    patch = PolygonPatch(p1, facecolor='#ff0000', edgecolor='#000000', alpha=0.3, zorder=2)\n",
    "                    bx.add_patch(patch)\n",
    "                    p2 = affine_h(kv, r)\n",
    "                    patch = PolygonPatch(p2.difference(p1), facecolor='#ffff00', edgecolor='#000000', alpha=0.7, zorder=2)\n",
    "                    bx.add_patch(patch)\n",
    "                    patch = PolygonPatch(p1.difference(p2), facecolor='#00ff00', edgecolor='#000000', alpha=0.7, zorder=2)\n",
    "                    bx.add_patch(patch)\n",
    "                    \n",
    "\n",
    "\n",
    "bx.set_xlim(-2,2)\n",
    "bx.set_xticks(range(-2,3))\n",
    "bx.set_ylim(-2,2)\n",
    "bx.set_yticks(range(-2,3))\n",
    "bx.set_aspect(1)\n",
    "plt.show()"
   ]
  },
  {
   "cell_type": "markdown",
   "metadata": {},
   "source": [
    "# Bibliografija"
   ]
  },
  {
   "cell_type": "markdown",
   "metadata": {},
   "source": [
    "1. Schattschneider, Doris. \"The plane symmetry groups: their recognition and notation.\" *The American Mathematical Monthly* 85.6 (1978): 439-450."
   ]
  },
  {
   "cell_type": "code",
   "execution_count": 68,
   "metadata": {},
   "outputs": [],
   "source": [
    "Funkcija `rot0` konstruiše matricu za rotaciju oko koordinatnog početka za zadati ugao:\n",
    "\n",
    "def def reflX():\n",
    "    return np.array([\n",
    "\t[ 1,  0,  0],\n",
    "\t[ 0,  -1,  0],\n",
    "\t[ 0,  0,  1] \n",
    "    ])rot0(fi):\n",
    "    return np.array([\n",
    "        [ cos(fi),  sin(fi),  0],\n",
    "        [-sin(fi),  cos(fi),  0],\n",
    "        [       0,        0,  1] ])"
   ]
  }
 ],
 "metadata": {
  "kernelspec": {
   "display_name": "Python 3",
   "language": "python",
   "name": "python3"
  },
  "language_info": {
   "codemirror_mode": {
    "name": "ipython",
    "version": 3
   },
   "file_extension": ".py",
   "mimetype": "text/x-python",
   "name": "python",
   "nbconvert_exporter": "python",
   "pygments_lexer": "ipython3",
   "version": "3.6.1"
  }
 },
 "nbformat": 4,
 "nbformat_minor": 2
}
