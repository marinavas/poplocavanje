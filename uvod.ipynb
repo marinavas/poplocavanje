{
 "cells": [
  {
   "cell_type": "code",
   "execution_count": 1,
   "metadata": {},
   "outputs": [],
   "source": [
    "%run init.ipynb"
   ]
  },
  {
   "cell_type": "markdown",
   "metadata": {},
   "source": [
    "# Kristalografske grupe i popločavanje\n"
   ]
  },
  {
   "cell_type": "markdown",
   "metadata": {},
   "source": [
    "Popločavanje je prekrivanje ravni ili prostora geometrijskim figurama (poligonima odnosno telima) čije se unutrašnjosti ne preklapaju.\n",
    "Posebno su zanimljiva popločavanja kod kojih se koriste podudarne firgure tako da imamo grupu izometrija koje jednu figuru preslikavaju na sve ostale. Jedan od primera takvog popločavanja su kristalne rešetke, zbog čega se takve grupe nazivaju kristalografskim grupama.\n",
    "\n",
    "U ovom radu ćemo se baviti popločavanjima u euklidskoj ravni $\\mathbb{E}^2$.\n",
    "Prvo ćemo definisati pojam kristalografske grupe u $\\mathbb{E}^2$.\n",
    "\n",
    "__*Definicija:*__ Za grupu $G$ kažemo da je *konačno generisana* ako postoji konačan skup elemenata grupe koji generiše sve elemente grupe\n",
    "\n",
    "__*Definicija:*__ *Konačna fundamentalna oblast* $F$ grupe izometrija $G$ u $\\mathbb{E}^2$ je unija konačno mnogo poligona takva da važi:  \n",
    "1. $\\displaystyle{\\bigcup_{g\\in G}g(F)} = \\mathbb{E}^2$\n",
    "2. $(\\forall g\\in G)(\\mathring{F} \\cap g(\\mathring{F})= \\emptyset)$"
   ]
  },
  {
   "cell_type": "markdown",
   "metadata": {},
   "source": [
    "Fundamentalna oblasta po definiciji u opštem slučaju ne mora da bude poligon ali je za potrebe ovog rada dovoljno da se ograničimo na poligone. Takođe, opštija definicija bi zahtevala pojmove iz topologije, dok smo se ovako zadržali da geometrijskoj terminologiji. "
   ]
  },
  {
   "cell_type": "markdown",
   "metadata": {},
   "source": [
    "__*Definicija:*__ _Kristalografska grupa_ je konačno generisana grupa izometrija koja ima konačnu fundamentalnu oblast."
   ]
  },
  {
   "cell_type": "markdown",
   "metadata": {},
   "source": [
    "Poznato je da u $\\mathbb{E}^2$ postoji 17 različitih (do na izomorfizam) kristalografskih grupa. Ovde mislimo na algebarski izomorfizam grupa [1]."
   ]
  },
  {
   "cell_type": "markdown",
   "metadata": {},
   "source": [
    "U okviru ovog rada bavićemo se svojstvima kristalografskih grupa u $\\mathbb{E}^2$, svojstvima fundamentalnih oblasti i algoritmima za konstruisanje fundamentalnih poligona koji na kraju mogu imati praktičnu primenu u grafičkom dizajniranju popločavanja. Algoritme ćemo implementirati u programskom jeziku Python."
   ]
  },
  {
   "cell_type": "markdown",
   "metadata": {},
   "source": [
    "## Izometrijske transformacije u $\\mathbb{R}^2$"
   ]
  },
  {
   "cell_type": "markdown",
   "metadata": {},
   "source": [
    "Ako u $\\mathbb{E}^2$ uvedemo koordinatni sistem, tačke predstavljamo dvodimenzionim koordinatama tj. elementima $\\mathbb{R}^2$. Koordinate tacke $A$ označavaćemo sa $(A_x, A_y)$. Analitički ćemo izometrijsku transformaciju u $\\mathbb{R}^2$ predstaviti kao specijalan slučaj afine transformacije. Ako je $A^´ = g(A)$ tada imamo:\n",
    "$$A^´_x = pA_x + qA_y + c_x$$\n",
    "$$A^´_y = rA_x + sA_y + c_y$$\n",
    "Korišćenjem računa sa matricama to možemo predstaviti:\n",
    "\n",
    "$$\\begin{bmatrix}p & q\\\\ r & s\\end{bmatrix} \\begin{bmatrix}A_x\\\\ A_y \\end{bmatrix} + \\begin{bmatrix}c_x\\\\ c_y\\end{bmatrix} = \\begin{bmatrix}A^´_x\\\\ A^´_y \\end{bmatrix}$$\n",
    "\n",
    "Korišćenjem homogenih koordinata ovo možemo predstaviti kao množenje trodimenzionih matrica:\n",
    "\n",
    "$$\\begin{bmatrix}p & q & c_x\\\\ r & s&c_y \\\\ 0 & 0 & 1\\end{bmatrix} \\begin{bmatrix}A_x\\\\ A_y\\\\1\\end{bmatrix} = \n",
    "\\begin{bmatrix}A^´_x\\\\ A^´_y\\\\1\\end{bmatrix}$$\n",
    "\n",
    "Na primer, translacija za vektor $(t_x, t_y)$ bi se predstavila kao:\n",
    "\n",
    "$$\\begin{bmatrix}1 & 0 & t_x\\\\ 0 & 1&t_y \\\\ 0 & 0 & 1\\end{bmatrix} \\begin{bmatrix}A_x\\\\ A_y\\\\1\\end{bmatrix} = \n",
    "\\begin{bmatrix}A_x+t_x\\\\ A_y+t_y\\\\1\\end{bmatrix}$$\n",
    "\n",
    "Primer sa konkretnim brojevima u sintaksi programskog jezika Python:"
   ]
  },
  {
   "cell_type": "code",
   "execution_count": 2,
   "metadata": {},
   "outputs": [
    {
     "data": {
      "text/plain": [
       "array([7, 9, 1])"
      ]
     },
     "execution_count": 2,
     "metadata": {},
     "output_type": "execute_result"
    }
   ],
   "source": [
    "tx,ty = 5,6\n",
    "t = np.array([\n",
    "    [ 1,  0,  tx],\n",
    "    [ 0,  1,  ty],\n",
    "    [ 0,  0,  1] ])\n",
    "A = np.array([2,3,1])\n",
    "t@A"
   ]
  },
  {
   "cell_type": "markdown",
   "metadata": {},
   "source": [
    "U primeru smo translirali tačku $A(2,3)$ za vektor $(5,6)$."
   ]
  },
  {
   "cell_type": "markdown",
   "metadata": {},
   "source": [
    "### Funkcije koje konstruišu matrice za osnovne izomejtrijske transformacije"
   ]
  },
  {
   "cell_type": "markdown",
   "metadata": {},
   "source": [
    "Funkcija `transl` konstruiše matricu za translaciju:"
   ]
  },
  {
   "cell_type": "code",
   "execution_count": 3,
   "metadata": {},
   "outputs": [],
   "source": [
    "def transl(tx,ty):\n",
    "    return np.array([\n",
    "        [ 1,  0,  tx],\n",
    "        [ 0,  1,  ty],\n",
    "        [ 0,  0,  1]])"
   ]
  },
  {
   "cell_type": "markdown",
   "metadata": {},
   "source": [
    "Funkcija `rot0` konstruiše matricu za rotaciju oko koordinatnog početka za zadati ugao:"
   ]
  },
  {
   "cell_type": "code",
   "execution_count": 4,
   "metadata": {},
   "outputs": [],
   "source": [
    "def rot0(fi):\n",
    "    return np.array([\n",
    "        [ cos(fi),  sin(fi),  0],\n",
    "        [-sin(fi),  cos(fi),  0],\n",
    "        [       0,        0,  1] ])"
   ]
  },
  {
   "cell_type": "markdown",
   "metadata": {},
   "source": [
    "Funkcija `reflX` konstruiše matricu za refleksiju oko x-ose:"
   ]
  },
  {
   "cell_type": "code",
   "execution_count": 5,
   "metadata": {},
   "outputs": [],
   "source": [
    "def reflX():\n",
    "    return np.array([\n",
    "        [ 1,  0,  0],\n",
    "        [ 0,  -1,  0],\n",
    "        [ 0,  0,  1] ])"
   ]
  },
  {
   "cell_type": "markdown",
   "metadata": {},
   "source": [
    "Prednost korišćenja homogenih koordinata je u tome što slaganje izometrija računamo kao množenje matrica. Na taj način funkciju `rot`, koja konstruiše matricu za rotaciju oko zadate tačke, možemo definisati kao:"
   ]
  },
  {
   "cell_type": "code",
   "execution_count": 6,
   "metadata": {},
   "outputs": [],
   "source": [
    "def rot(fi, cx, cy):\n",
    "    return transl(cx, cy) @  rot0(fi) @ transl(-cx, -cy)"
   ]
  },
  {
   "cell_type": "markdown",
   "metadata": {},
   "source": [
    "Slično konstruišemo refleksiju oko proizvoljne ose zadate koordinatama jedne tačke na toj osi i uglom koji ona pravi sa x-osom:"
   ]
  },
  {
   "cell_type": "code",
   "execution_count": 7,
   "metadata": {},
   "outputs": [],
   "source": [
    "def refl(ax,ay,fi):\n",
    "    return transl(ax,ay) @ rot0(fi) @ reflX() @ rot0(-fi) @ transl(-ax,-ay)"
   ]
  },
  {
   "cell_type": "markdown",
   "metadata": {},
   "source": [
    "Ukoliko osa prolazi kroz koordinatni početak i tačku a, matricu osne refleksije možemo i direktno konstruisati bez primene trigonometrijskih funkcija  na sledeći način:"
   ]
  },
  {
   "cell_type": "code",
   "execution_count": 8,
   "metadata": {},
   "outputs": [
    {
     "data": {
      "text/plain": [
       "array([[ 1.,  0.,  0.],\n",
       "       [ 0., -1.,  0.],\n",
       "       [ 0.,  0.,  1.]])"
      ]
     },
     "execution_count": 8,
     "metadata": {},
     "output_type": "execute_result"
    }
   ],
   "source": [
    "def refl1(ax,ay):\n",
    "    r = (ax*ax+ay*ay)\n",
    "    #r=1  \n",
    "    return np.array([\n",
    "        [ (ay*ay-ax*ax)/r,  2*ax*ay/r,  0],\n",
    "        [ 2*ax*ay/r, (ax*ax-ay*ay)/r ,  0],\n",
    "        [         0,                0,  1] ])\n",
    "    \n",
    "refl1(0,1)"
   ]
  },
  {
   "cell_type": "markdown",
   "metadata": {},
   "source": [
    "Koristeći to možemo konstruisati refleksiju oko ose zadate dvema tačkama"
   ]
  },
  {
   "cell_type": "code",
   "execution_count": 9,
   "metadata": {},
   "outputs": [
    {
     "data": {
      "text/plain": [
       "array([ 2., -2.,  1.])"
      ]
     },
     "execution_count": 9,
     "metadata": {},
     "output_type": "execute_result"
    }
   ],
   "source": [
    "def refl2(ax,ay,bx,by):\n",
    "    return transl(ax,ay)@refl1(bx-ax,by-ay)@transl(-ax,-ay)\n",
    "\n",
    "refl2(0,0,0,1) @ (2,2,1)"
   ]
  },
  {
   "cell_type": "markdown",
   "metadata": {},
   "source": [
    "** klizajuća"
   ]
  },
  {
   "cell_type": "markdown",
   "metadata": {},
   "source": [
    "### Predstavljanje grupa homogenim matricama i njihova implementacija"
   ]
  },
  {
   "cell_type": "markdown",
   "metadata": {},
   "source": [
    "Grupu **p1** čine dve translacije pa je generišu dva vektora $v$ i $u$\n",
    "\n",
    "$$\\begin{bmatrix}1 & 0 & v_x\\\\ 0 & 1&v_y \\\\ 0 & 0 & 1\\end{bmatrix}, \\begin{bmatrix}1 & 0 & u_x\\\\ 0 & 1&u_y \\\\ 0 & 0 & 1\\end{bmatrix}$$\n",
    "\n",
    "Grupu pored generičkih izometrija čine i njima inverzne izometrije kao i identitet pa je implementacija grupe **p1** sa parametrima: "
   ]
  },
  {
   "cell_type": "code",
   "execution_count": 10,
   "metadata": {},
   "outputs": [],
   "source": [
    "I = np.array([\n",
    "        [ 1,  0,  0],\n",
    "        [ 0,  1,  0],\n",
    "        [ 0,  0,  1]])\n",
    "def inv(x):\n",
    "    return np.linalg.inv(x)"
   ]
  },
  {
   "cell_type": "code",
   "execution_count": 11,
   "metadata": {},
   "outputs": [],
   "source": [
    "def p1(x1,y1,x2,y2):\n",
    "    tr1 = transl(x1, y1)\n",
    "    tr2 = transl(x2, y2)\n",
    "    return [I,tr1,tr2,inv(tr1), inv(tr2)]"
   ]
  },
  {
   "cell_type": "markdown",
   "metadata": {},
   "source": [
    "Grupu **p2** čine tri centralne simetrije. Fundamentalni domen može biti trougaoni ili četvorougaoni. Radi lakšeg implementiranja, posmatraćemo kao jednu simetriju (kojom fundamentalni domen proširujemo do paralelograma) i dve translacije. Generiše se vektorima tih translacija (stranice dobijenog paralelograma) i jednim temenom. \n",
    "\n",
    "$$\\begin{Bmatrix}\\begin{bmatrix}-1 & 0 & 2a_x +v_x+u_x\\\\ 0 & -1& 2a_y +v_y+u_y \\\\ 0 & 0 & 1\\end{bmatrix}&,& \\begin{bmatrix}1 & 0 & v_x\\\\ 0 & 1&v_y \\\\ 0 & 0 & 1\\end{bmatrix}&,& \\begin{bmatrix}1 & 0 & u_x\\\\ 0 & 1&u_y \\\\ 0 & 0 & 1\\end{bmatrix}  \\end{Bmatrix}$$\n"
   ]
  },
  {
   "cell_type": "code",
   "execution_count": 12,
   "metadata": {},
   "outputs": [],
   "source": [
    "def p2(ax,ay, x1,y1,x2,y2):\n",
    "    sym = rot(pi,ax,ay)\n",
    "    return p1(x1,x2,y1,y2) + [sym, inv(sym)]"
   ]
  },
  {
   "cell_type": "markdown",
   "metadata": {},
   "source": [
    "Grupu **pm** čine refleksije i translacije. Fundamentalni domen je pravougaonik* . Generišu ga jedno teme i dva vektora.\n",
    "\n",
    "$$\\begin{Bmatrix}\\begin{bmatrix} \\frac{v_{x}^{2}-v_{y}^{2} }{v_{x}^{2}+v_{y}^{2}}& \\frac{2v_{x}v_{y}}{v_{x}^{2}+v_{y}^{2}}& \\frac{2a_yv_{x}v_{y} + a_x(v_{x}^{2}-v_{y}^{2}-1)}{v_{x}^{2}+v_{y}^{2}}\\\\\\frac{2v_{x}v_{y}}{v_{x}^{2}+v_{y}^{2}}&\\frac{v_{y}^{2}-v_{x}^{2} }{v_{x}^{2}+v_{y}^{2}}& \\frac{2a_xv_{x}v_{y} + a_y(v_{x}^{2}-v_{y}^{2}-1)}{v_{x}^{2}+v_{y}^{2}} \\\\ 0 & 0 & 1\\end{bmatrix} & ,& \\begin{bmatrix}1 & 0 & u_x\\\\ 0 & 1&u_y \\\\ 0 & 0 & 1\\end{bmatrix}  \\end{Bmatrix}$$\n"
   ]
  },
  {
   "cell_type": "code",
   "execution_count": 13,
   "metadata": {},
   "outputs": [],
   "source": [
    "def pm(ax,ay, x1,y1,x2,y2):\n",
    "    ref = refl2(ax,ay, ax+x1,ay+y1)\n",
    "    return p1(2*x1, 2*y1,x2,y2) +[ref]"
   ]
  },
  {
   "cell_type": "markdown",
   "metadata": {},
   "source": [
    "**"
   ]
  },
  {
   "cell_type": "markdown",
   "metadata": {},
   "source": [
    "## Konstruisanje grupa izometrijskih transformacija"
   ]
  },
  {
   "cell_type": "markdown",
   "metadata": {},
   "source": [
    "**  uz teorijski uvod implementirati funkcije za konstruisanje grupa iz transformacija sa primerima crtanja i funkcije za svih 17 grupa"
   ]
  },
  {
   "cell_type": "markdown",
   "metadata": {},
   "source": [
    "***"
   ]
  },
  {
   "cell_type": "markdown",
   "metadata": {},
   "source": [
    "## Dirihleova fundamentalna oblast"
   ]
  },
  {
   "cell_type": "markdown",
   "metadata": {},
   "source": [
    "** teorijsko objasnjenje"
   ]
  },
  {
   "cell_type": "markdown",
   "metadata": {},
   "source": [
    "### Konstrukcija Dirihleove fundamentalne oblasti "
   ]
  },
  {
   "cell_type": "markdown",
   "metadata": {},
   "source": [
    "** opis konsturkcije i impementacija u pajtonu"
   ]
  },
  {
   "cell_type": "markdown",
   "metadata": {},
   "source": [
    "## Podfundamentalna oblast"
   ]
  },
  {
   "cell_type": "markdown",
   "metadata": {},
   "source": [
    "## Modifikacija fundamentalne oblasti na osnovu podfundamentalne"
   ]
  },
  {
   "cell_type": "markdown",
   "metadata": {},
   "source": [
    "### Implementacija "
   ]
  },
  {
   "cell_type": "markdown",
   "metadata": {},
   "source": [
    "## Konačni primeri"
   ]
  },
  {
   "cell_type": "code",
   "execution_count": 14,
   "metadata": {},
   "outputs": [],
   "source": [
    "def generisi(gen,okvir):\n",
    "    xmin,ymin,xmax,ymax = okvir\n",
    "    l = []\n",
    "    def generisi_rek(iz):\n",
    "        for i in l:\n",
    "            if(np.linalg.norm(iz - i) < 0.00001):\n",
    "                return\n",
    "        l.append(iz)\n",
    "        x,y,_ = iz @ (0,0,1)\n",
    "        if(x>xmax or x<xmin or y>ymax or y<ymin):\n",
    "            return\n",
    "        for i in gen:\n",
    "            generisi_rek(i @ iz)\n",
    "            \n",
    "    generisi_rek(transl(0,0))\n",
    "    return l\n",
    "        "
   ]
  },
  {
   "cell_type": "code",
   "execution_count": 15,
   "metadata": {},
   "outputs": [],
   "source": [
    "def crtaj(izl,p,axes):\n",
    "    for i in izl:\n",
    "        q = affine_h(p,i)\n",
    "        patch = PolygonPatch(q, facecolor='#ff0000', edgecolor='#000000', alpha=0.3, zorder=2)\n",
    "        axes.add_patch(patch) \n",
    "        "
   ]
  },
  {
   "cell_type": "code",
   "execution_count": 16,
   "metadata": {},
   "outputs": [
    {
     "data": {
      "image/png": "[encoded data removed]",
      "text/plain": [
       "<Figure size 432x288 with 1 Axes>"
      ]
     },
     "metadata": {},
     "output_type": "display_data"
    }
   ],
   "source": [
    "bx = plt.axes()\n",
    "\n",
    "                    \n",
    "m = []\n",
    "p = Polygon([(0,0),(0.25, 0.25), (1,0), (1,0.5), (0,1)])\n",
    "\n",
    "izom = pm(0,0,1,0,0,2)\n",
    "okvir = [-10,-10,10,10]\n",
    "\n",
    "izomgen = generisi(izom,okvir)\n",
    "crtaj(izomgen,p,bx)\n",
    "\n",
    "xmin,ymin,xmax,ymax = okvir\n",
    "bx.set_xlim(-10,10)\n",
    "bx.set_xticks(range(-10,11))\n",
    "bx.set_ylim(-10,10)\n",
    "bx.set_yticks(range(-10,11))\n",
    "bx.set_aspect(1)\n",
    "plt.show()"
   ]
  },
  {
   "cell_type": "markdown",
   "metadata": {},
   "source": [
    "# Bibliografija"
   ]
  },
  {
   "cell_type": "markdown",
   "metadata": {},
   "source": [
    "1. Schattschneider, Doris. \"The plane symmetry groups: their recognition and notation.\" *The American Mathematical Monthly* 85.6 (1978): 439-450."
   ]
  }
 ],
 "metadata": {
  "kernelspec": {
   "display_name": "Python 3",
   "language": "python",
   "name": "python3"
  },
  "language_info": {
   "codemirror_mode": {
    "name": "ipython",
    "version": 3
   },
   "file_extension": ".py",
   "mimetype": "text/x-python",
   "name": "python",
   "nbconvert_exporter": "python",
   "pygments_lexer": "ipython3",
   "version": "3.7.0"
  }
 },
 "nbformat": 4,
 "nbformat_minor": 2
}
