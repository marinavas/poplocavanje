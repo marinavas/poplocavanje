{
 "cells": [
  {
   "cell_type": "markdown",
   "metadata": {},
   "source": [
    "# poplocavanje\n"
   ]
  },
  {
   "cell_type": "markdown",
   "metadata": {},
   "source": [
    "Oblast $G$ $x\\over y$"
   ]
  },
  {
   "cell_type": "code",
   "execution_count": null,
   "metadata": {},
   "outputs": [],
   "source": [
    "#!pip install --upgrade protobuf\n",
    "#!pip install shapely descartes"
   ]
  },
  {
   "cell_type": "code",
   "execution_count": null,
   "metadata": {},
   "outputs": [],
   "source": [
    "%matplotlib inline\n",
    "from shapely.geometry import Point\n"
   ]
  },
  {
   "cell_type": "code",
   "execution_count": null,
   "metadata": {},
   "outputs": [],
   "source": [
    "from matplotlib import pyplot as plt\n",
    "from shapely.geometry import Polygon\n",
    "from shapely.affinity import affine_transform\n",
    "from descartes.patch import PolygonPatch\n",
    "import numpy as np\n",
    "from math import sin, cos, pi\n",
    "\n",
    "# afine transformacije predstavljamo homogenim koordinatama\n",
    "\n",
    "def transl(tx,ty):\n",
    "    return np.array([\n",
    "\t[ 1,  0,  tx],\n",
    "\t[ 0,  1,  ty],\n",
    "\t[ 0,  0,  1] \n",
    "    ])\n",
    "\n",
    "def rot0(fi):\n",
    "    return np.array([\n",
    "\t[ cos(fi),  sin(fi),  0],\n",
    "\t[-sin(fi),  cos(fi),  0],\n",
    "\t[       0,        0,  1] \n",
    "    ])\n",
    "\n",
    "# operator @ je mnozenje matrica\n",
    "def rot(fi, cx, cy):\n",
    "    return transl(cx, cy) @  rot0(fi) @ transl(-cx, -cy)\n",
    "\n",
    "\n",
    "def affine_h(geom, m):\n",
    "    return affine_transform(geom, [m[0,0],m[0,1],m[1,0],m[1,1],m[0,2],m[1,2]])\n",
    "\n",
    "ax = plt.axes()\n",
    "\n",
    "p1 = Polygon([(0, 0), (0, 2), (2, 2), (2, 0), (0, 0)])\n",
    "\n",
    "p2 = affine_h(p1, transl(0,1) @ rot(pi/4,0,0))\n",
    "\n",
    "\n",
    "patch = PolygonPatch(p1.symmetric_difference(p2), facecolor='#ffff00', edgecolor='#ff0000', alpha=0.5, zorder=2)\n",
    "ax.add_patch(patch)\n",
    "\n",
    "#patch = PolygonPatch(p2, facecolor='#ff3333', edgecolor='#6699cc', alpha=0.5, zorder=2)\n",
    "#ax.add_patch(patch)\n",
    "\n",
    "ax.set_xlim(-1,3)\n",
    "ax.set_xticks(range(-1,4))\n",
    "ax.set_ylim(-1,3)\n",
    "ax.set_yticks(range(-1,4))\n",
    "ax.set_aspect(1)\n",
    "plt.show()\n",
    "\n"
   ]
  },
  {
   "cell_type": "code",
   "execution_count": null,
   "metadata": {},
   "outputs": [],
   "source": []
  }
 ],
 "metadata": {
  "kernelspec": {
   "display_name": "Python 3",
   "language": "python",
   "name": "python3"
  },
  "language_info": {
   "codemirror_mode": {
    "name": "ipython",
    "version": 3
   },
   "file_extension": ".py",
   "mimetype": "text/x-python",
   "name": "python",
   "nbconvert_exporter": "python",
   "pygments_lexer": "ipython3",
   "version": "3.5.4"
  }
 },
 "nbformat": 4,
 "nbformat_minor": 2
}
