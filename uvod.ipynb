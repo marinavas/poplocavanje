{
 "cells": [
  {
   "cell_type": "markdown",
   "metadata": {},
   "source": [
    "# poplocavanje\n"
   ]
  },
  {
   "cell_type": "markdown",
   "metadata": {},
   "source": [
    "Oblast $G$ $x\\over y$"
   ]
  },
  {
   "cell_type": "code",
   "execution_count": 1,
   "metadata": {},
   "outputs": [],
   "source": [
    "#!pip install --upgrade protobuf\n",
    "#!pip install shapely descartes"
   ]
  },
  {
   "cell_type": "code",
   "execution_count": 68,
   "metadata": {},
   "outputs": [],
   "source": [
    "%matplotlib inline\n",
    "from shapely.geometry import Point\n",
    "from numpy.linalg import inv\n",
    "from math import sqrt"
   ]
  },
  {
   "cell_type": "code",
   "execution_count": 152,
   "metadata": {},
   "outputs": [],
   "source": [
    "from matplotlib import pyplot as plt\n",
    "from shapely.geometry import Polygon\n",
    "from shapely.affinity import affine_transform\n",
    "from descartes.patch import PolygonPatch\n",
    "import numpy as np\n",
    "from math import sin, cos, pi\n",
    "\n",
    "# afine transformacije predstavljamo homogenim koordinatama\n",
    "\n",
    "def transl(tx,ty):\n",
    "    return np.array([\n",
    "\t[ 1,  0,  tx],\n",
    "\t[ 0,  1,  ty],\n",
    "\t[ 0,  0,  1] \n",
    "    ])\n",
    "\n",
    "def rot0(fi):\n",
    "    return np.array([\n",
    "\t[ cos(fi),  sin(fi),  0],\n",
    "\t[-sin(fi),  cos(fi),  0],\n",
    "\t[       0,        0,  1] \n",
    "    ])\n",
    "\n",
    "def reflX():\n",
    "    return np.array([\n",
    "\t[ 1,  0,  0],\n",
    "\t[ 0,  -1,  0],\n",
    "\t[ 0,  0,  1] \n",
    "    ])\n",
    "\n",
    "def reflY():\n",
    "    return np.array([\n",
    "\t[ -1,  0,  0],\n",
    "\t[ 0,  1,  0],\n",
    "\t[ 0,  0,  1] \n",
    "    ])\n",
    "\n",
    "def refldX(y, dy):\n",
    "    return transl(0,y)@reflY@transl(0,-y)@transl(0,dy)\n",
    "def refldY(x,dx):\n",
    "    return transl(x,0)@reflX@transl(-x,0)@transl(dx,0)\n",
    "\n",
    "def rot(fi, cx, cy):\n",
    "    return transl(cx, cy) @  rot0(fi) @ transl(-cx, -cy)\n",
    "\n",
    "def sim0(x,y):\n",
    "    return rot(pi,x,y)\n",
    "\n",
    "def glrefY(y,dy,dx):\n",
    "    return refldX(y,dy)@transl(dx,0)\n",
    "def gledfX(x,dx,dy):\n",
    "    return refldx(x,dx)@transl(0,dy)\n",
    "\n",
    "\n",
    "def affine_h(geom, m):\n",
    "    return affine_transform(geom, [m[0,0],m[0,1],m[1,0],m[1,1],m[0,2],m[1,2]])\n",
    "\n",
    "I = transl(0,0)\n",
    "def izom(vr,arg):\n",
    "    if(vr == \"p1\"):\n",
    "        tr1 = transl(arg[0], arg[1])\n",
    "        tr2 = transl(arg[2], arg[3])\n",
    "        return [I,tr1,tr2,inv(tr1), inv(tr2)]\n",
    "    if(vr == \"p31m\"):\n",
    "        r1 = rot(pi/3, arg[0], arg[1])\n",
    "        r2 = rot(2*pi/3, arg[2], arg[3])\n",
    "        return [I,r1,r2,inv(r1), inv(r2)]\n",
    "    \n",
    "    if(vr == \"p2\"):\n",
    "        s1 = sim0(arg[0], arg[1])\n",
    "        s2 = sim0(arg[2], arg[3])\n",
    "        s3 = sim0(arg[4], arg[5])\n",
    "        s4 = sim0(arg[6], arg[7])\n",
    "        return [I,s1,s2,s3,s4]\n",
    "    \n",
    "    if(vr == \"pm_h\"):\n",
    "        return [I, refldY(arg[0], arg[1]), refldY(arg[0], -arg[1])]\n",
    "    \n",
    "    if(vr == \"pgg\"):\n",
    "        s1 = sim0(arg[0], arg[1])\n",
    "        s2 = sim0(arg[2], arg[3])\n",
    "        return [I,s1,s2]\n",
    "    \n"
   ]
  },
  {
   "cell_type": "markdown",
   "metadata": {},
   "source": []
  },
  {
   "cell_type": "code",
   "execution_count": 148,
   "metadata": {},
   "outputs": [],
   "source": [
    "#pop_p31m = izom(\"p31m\", [0,0,0.5,sqrt(3)/6])\n",
    "#pop_p31m = izom(\"p1\", [0,1,1,0])\n",
    "pop_p31m = izom(\"pgg\", [0,0,0,0.5])"
   ]
  },
  {
   "cell_type": "markdown",
   "metadata": {},
   "source": [
    "\n",
    "ax = plt.axes()\n",
    "\n",
    "p1 = Polygon([(1,2), (1.5, 2.5), (2, 2), (2.5, 2.5), (3, 2), (2,1)])\n",
    "#patch = PolygonPatch(p1, facecolor='#ffff00', edgecolor='#ff0000', alpha=0.5, zorder=2)\n",
    "#ax.add_patch(patch)\n",
    "for i in range(12):\n",
    "    for j in range(12):\n",
    "        p2 = affine_h(p1, pop(i-6,j-6))\n",
    "        patch = PolygonPatch(p2, facecolor='#ff0000', edgecolor='#ff0000', alpha=0.7, zorder=2)\n",
    "        ax.add_patch(patch)\n",
    "p0 = Polygon([(0,0), (3,4), (3,8), (0,4)])\n",
    "\n",
    "patch = PolygonPatch(p0, facecolor='#0000ff', edgecolor='#6699cc', alpha=0.5, zorder=2)\n",
    "ax.add_patch(patch)\n",
    "for i in range(12):\n",
    "    for j in range(12):\n",
    "        p2 = affine_h(p0, pop(i-6,j-6))\n",
    "        patch = PolygonPatch(p2, facecolor='#0000ff', edgecolor='#000000', alpha=0.2, zorder=2)\n",
    "        ax.add_patch(patch)\n",
    "ax.set_xlim(-10,10)\n",
    "ax.set_xticks(range(-10,10))\n",
    "ax.set_ylim(-10,10)\n",
    "ax.set_yticks(range(-10,10))\n",
    "ax.set_aspect(1)\n",
    "plt.show()\n"
   ]
  },
  {
   "cell_type": "markdown",
   "metadata": {},
   "source": [
    "r1 = rot(pi/3, 0,0)\n",
    "r2 = rot(2*pi/3, 0.5,sqrt(3)/6)\n",
    "tr1 = Polygon([(0,0), (0.5,0),(0.5,sqrt(3)/6)])\n",
    "tr2 = Polygon([(1,0), (0.5,0),(0.5,sqrt(3)/6)])\n",
    "tr3 = Polygon([(1,0), (0,0),(0.5,sqrt(3)/6)])\n",
    "kv = Polygon([(0.25,0),(0.5,0),(0.5,0.25),(0.25,0.25)])\n",
    "r1i = inv(r1)\n",
    "r2i = inv(r2)\n",
    "I = r1@r1i\n",
    "bx = plt.axes()\n",
    "\n",
    "r = I\n",
    "def popl(i):\n",
    "    if i==5 :\n",
    "        p1 = affine_h(tr1, r)\n",
    "        patch = PolygonPatch(p1, facecolor='#ff0000', edgecolor='#ff0000', alpha=0.3, zorder=2)\n",
    "        bx.add_patch(patch)\n",
    "        p2 = affine_h(tr2, r)\n",
    "        patch = PolygonPatch(p2, facecolor='#0000ff', edgecolor='#0000ff', alpha=0.3, zorder=2)\n",
    "        bx.add_patch(patch)\n",
    "        return \n",
    "    for q1 in [I,r1,r2,r1i,r2i]:\n",
    "        r = r@q1  \n",
    "        popl(i+1)   \n",
    "    return\n",
    "popl(0)\n",
    "bx.set_xlim(-3,3)\n",
    "bx.set_xticks(range(-3,4))\n",
    "bx.set_ylim(-3,3)\n",
    "bx.set_yticks(range(-3,4))\n",
    "bx.set_aspect(1)\n",
    "plt.show()\n"
   ]
  },
  {
   "cell_type": "code",
   "execution_count": 151,
   "metadata": {},
   "outputs": [
    {
     "data": {
      "image/png": "[encoded data removed]",
      "text/plain": [
       "<Figure size 432x288 with 1 Axes>"
      ]
     },
     "metadata": {},
     "output_type": "display_data"
    }
   ],
   "source": [
    "\n",
    "bx = plt.axes()\n",
    "for q1 in pop_p31m:\n",
    "    for q2 in pop_p31m:\n",
    "        for q3 in pop_p31m:\n",
    "            for q4 in pop_p31m:                \n",
    "                    r = q1@q2@q3@q4\n",
    "                    p1 = affine_h(tr3, r)\n",
    "                    patch = PolygonPatch(p1, facecolor='#ff0000', edgecolor='#000000', alpha=0.3, zorder=2)\n",
    "                    bx.add_patch(patch)\n",
    "                    p2 = affine_h(kv, r)\n",
    "                    patch = PolygonPatch(p2.difference(p1), facecolor='#ffff00', edgecolor='#000000', alpha=0.7, zorder=2)\n",
    "                    bx.add_patch(patch)\n",
    "                    patch = PolygonPatch(p1.difference(p2), facecolor='#00ff00', edgecolor='#000000', alpha=0.7, zorder=2)\n",
    "                    bx.add_patch(patch)\n",
    "                    \n",
    "\n",
    "\n",
    "bx.set_xlim(-2,2)\n",
    "bx.set_xticks(range(-2,3))\n",
    "bx.set_ylim(-2,2)\n",
    "bx.set_yticks(range(-2,3))\n",
    "bx.set_aspect(1)\n",
    "plt.show()"
   ]
  },
  {
   "cell_type": "code",
   "execution_count": null,
   "metadata": {},
   "outputs": [],
   "source": []
  }
 ],
 "metadata": {
  "kernelspec": {
   "display_name": "Python 3",
   "language": "python",
   "name": "python3"
  },
  "language_info": {
   "codemirror_mode": {
    "name": "ipython",
    "version": 3
   },
   "file_extension": ".py",
   "mimetype": "text/x-python",
   "name": "python",
   "nbconvert_exporter": "python",
   "pygments_lexer": "ipython3",
   "version": "3.6.1"
  }
 },
 "nbformat": 4,
 "nbformat_minor": 2
}
